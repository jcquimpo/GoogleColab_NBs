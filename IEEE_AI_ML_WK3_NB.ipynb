{
  "nbformat": 4,
  "nbformat_minor": 0,
  "metadata": {
    "colab": {
      "provenance": [],
      "authorship_tag": "ABX9TyOTXBA9E9QXAKVNHc8UdbeV",
      "include_colab_link": true
    },
    "kernelspec": {
      "name": "python3",
      "display_name": "Python 3"
    },
    "language_info": {
      "name": "python"
    }
  },
  "cells": [
    {
      "cell_type": "markdown",
      "metadata": {
        "id": "view-in-github",
        "colab_type": "text"
      },
      "source": [
        "<a href=\"https://colab.research.google.com/github/jcquimpo/GoogleColab_NBs/blob/main/IEEE_AI_ML_WK3_NB.ipynb\" target=\"_parent\"><img src=\"https://colab.research.google.com/assets/colab-badge.svg\" alt=\"Open In Colab\"/></a>"
      ]
    },
    {
      "cell_type": "markdown",
      "source": [
        "## AI/ML IEEE Project\n",
        " - Choose your own dataset\n",
        " - Visualization\n",
        "    - charts, graphs, tables, etc.\n",
        "      - classic graphs (Histrograms, Infographics, Steam, Choropleth), heat maps, AI recognition, Colors, etc.\n",
        " - What model did you use and why?\n",
        "------------------------------------------------------------------\n",
        " https://docs.google.com/presentation/d/1KycU0opVhcWtdrrrqZoAAKUq5VfcmSfB7elY-lbyEIU/edit"
      ],
      "metadata": {
        "id": "IoXmreTYetG3"
      }
    },
    {
      "cell_type": "code",
      "execution_count": null,
      "metadata": {
        "id": "rv4ow_yJeMDg"
      },
      "outputs": [],
      "source": []
    }
  ]
}